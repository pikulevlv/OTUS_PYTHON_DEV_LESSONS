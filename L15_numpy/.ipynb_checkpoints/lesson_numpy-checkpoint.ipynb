{
 "cells": [
  {
   "cell_type": "code",
   "execution_count": 1,
   "metadata": {},
   "outputs": [
    {
     "name": "stdout",
     "output_type": "stream",
     "text": [
      "Help on package numpy.doc in numpy:\n",
      "\n",
      "NAME\n",
      "    numpy.doc\n",
      "\n",
      "DESCRIPTION\n",
      "    Topical documentation\n",
      "    =====================\n",
      "    \n",
      "    The following topics are available:\n",
      "    \n",
      "    - basics\n",
      "    - broadcasting\n",
      "    - byteswapping\n",
      "    - constants\n",
      "    - creation\n",
      "    - dispatch\n",
      "    - glossary\n",
      "    - indexing\n",
      "    - internals\n",
      "    - misc\n",
      "    - structured_arrays\n",
      "    - subclassing\n",
      "    - ufuncs\n",
      "    \n",
      "    You can view them by\n",
      "    \n",
      "    >>> help(np.doc.TOPIC)                                      #doctest: +SKIP\n",
      "\n",
      "PACKAGE CONTENTS\n",
      "    basics\n",
      "    broadcasting\n",
      "    byteswapping\n",
      "    constants\n",
      "    creation\n",
      "    dispatch\n",
      "    glossary\n",
      "    indexing\n",
      "    internals\n",
      "    misc\n",
      "    structured_arrays\n",
      "    subclassing\n",
      "    ufuncs\n",
      "\n",
      "DATA\n",
      "    __all__ = ['basics', 'broadcasting', 'byteswapping', 'constants', 'cre...\n",
      "\n",
      "FILE\n",
      "    c:\\users\\lpikulev\\anaconda3\\lib\\site-packages\\numpy\\doc\\__init__.py\n",
      "\n",
      "\n"
     ]
    }
   ],
   "source": [
    "import numpy as np\n",
    "from numpy import doc\n",
    "help(doc)"
   ]
  },
  {
   "cell_type": "markdown",
   "metadata": {},
   "source": [
    "### Arrays, axises, dimensions"
   ]
  },
  {
   "cell_type": "code",
   "execution_count": 2,
   "metadata": {},
   "outputs": [
    {
     "data": {
      "text/plain": [
       "<function numpy.array>"
      ]
     },
     "execution_count": 2,
     "metadata": {},
     "output_type": "execute_result"
    }
   ],
   "source": [
    "np.array"
   ]
  },
  {
   "cell_type": "code",
   "execution_count": 3,
   "metadata": {},
   "outputs": [
    {
     "name": "stdout",
     "output_type": "stream",
     "text": [
      "array([1, 2, 3])\n",
      "<class 'numpy.ndarray'>\n",
      "Axises: 1\n",
      "Shape: (3,)\n"
     ]
    }
   ],
   "source": [
    "a = np.array([1,2,3])\n",
    "print(repr(a))\n",
    "print(type(a))\n",
    "print(\"Axises:\", a.ndim)\n",
    "print(\"Shape:\", a.shape)"
   ]
  },
  {
   "cell_type": "code",
   "execution_count": 4,
   "metadata": {},
   "outputs": [
    {
     "data": {
      "text/plain": [
       "[array([1, 2, 3]), 1, 0.1, '2', <object at 0x20c1b7c6980>, None]"
      ]
     },
     "execution_count": 4,
     "metadata": {},
     "output_type": "execute_result"
    }
   ],
   "source": [
    "[a, 1, 0.1, '2', object(), None]"
   ]
  },
  {
   "cell_type": "code",
   "execution_count": 5,
   "metadata": {},
   "outputs": [
    {
     "data": {
      "text/plain": [
       "dtype('int32')"
      ]
     },
     "execution_count": 5,
     "metadata": {},
     "output_type": "execute_result"
    }
   ],
   "source": [
    "a.dtype"
   ]
  },
  {
   "cell_type": "code",
   "execution_count": 6,
   "metadata": {},
   "outputs": [
    {
     "name": "stdout",
     "output_type": "stream",
     "text": [
      "Elem's size: 4 bytes\n"
     ]
    }
   ],
   "source": [
    "print(\"Elem's size:\", a.itemsize, \"bytes\")"
   ]
  },
  {
   "cell_type": "code",
   "execution_count": 7,
   "metadata": {},
   "outputs": [
    {
     "data": {
      "text/plain": [
       "array([[4, 5, 6],\n",
       "       [7, 8, 9]])"
      ]
     },
     "execution_count": 7,
     "metadata": {},
     "output_type": "execute_result"
    }
   ],
   "source": [
    "b = np.array([[4,5,6], [7,8,9]])\n",
    "b"
   ]
  },
  {
   "cell_type": "code",
   "execution_count": 8,
   "metadata": {},
   "outputs": [
    {
     "name": "stdout",
     "output_type": "stream",
     "text": [
      "Size: 6\n",
      "Axises: 2\n",
      "Shape: (2, 3)\n"
     ]
    }
   ],
   "source": [
    "print(\"Size:\", b.size)\n",
    "print(\"Axises:\", b.ndim)\n",
    "print(\"Shape:\", b.shape)"
   ]
  },
  {
   "cell_type": "code",
   "execution_count": 9,
   "metadata": {},
   "outputs": [
    {
     "name": "stdout",
     "output_type": "stream",
     "text": [
      "dtype('int32')\n",
      "int32\n",
      "4\n",
      "int32\n",
      "4\n"
     ]
    }
   ],
   "source": [
    "print(repr(b.dtype))\n",
    "print(b.dtype.name)\n",
    "print(b.itemsize)\n",
    "b.dtype = np.int32\n",
    "print(b.dtype)\n",
    "print(b.itemsize)"
   ]
  },
  {
   "cell_type": "markdown",
   "metadata": {},
   "source": [
    "### Creating arrays"
   ]
  },
  {
   "cell_type": "code",
   "execution_count": 10,
   "metadata": {},
   "outputs": [
    {
     "name": "stdout",
     "output_type": "stream",
     "text": [
      "[ 0  1  2  3  4  5  6  7  8  9 10 11 12 13 14]\n",
      "[[ 0  1  2  3  4]\n",
      " [ 5  6  7  8  9]\n",
      " [10 11 12 13 14]]\n"
     ]
    }
   ],
   "source": [
    "a = np.arange(15)\n",
    "print(a)\n",
    "a = a.reshape(3,5)\n",
    "print(a)"
   ]
  },
  {
   "cell_type": "code",
   "execution_count": 11,
   "metadata": {},
   "outputs": [
    {
     "name": "stdout",
     "output_type": "stream",
     "text": [
      "(4, 5)\n",
      "2\n",
      "20\n",
      "int32\n"
     ]
    },
    {
     "data": {
      "text/plain": [
       "array([[ 15,  20,  25,  30,  35],\n",
       "       [ 40,  45,  50,  55,  60],\n",
       "       [ 65,  70,  75,  80,  85],\n",
       "       [ 90,  95, 100, 105, 110]])"
      ]
     },
     "execution_count": 11,
     "metadata": {},
     "output_type": "execute_result"
    }
   ],
   "source": [
    "b = np.arange(15,115, 5).reshape(4,-1)\n",
    "print(b.shape)\n",
    "print(b.ndim)\n",
    "print(b.size)\n",
    "print(b.dtype)\n",
    "b"
   ]
  },
  {
   "cell_type": "code",
   "execution_count": 12,
   "metadata": {},
   "outputs": [
    {
     "name": "stdout",
     "output_type": "stream",
     "text": [
      "[1.  1.5 2.  2.5 3.  3.5 4.  4.5]\n",
      "8\n"
     ]
    }
   ],
   "source": [
    "a = np.arange(1, 5, 0.5)\n",
    "print(a)\n",
    "print(a.size)"
   ]
  },
  {
   "cell_type": "code",
   "execution_count": 13,
   "metadata": {},
   "outputs": [
    {
     "name": "stdout",
     "output_type": "stream",
     "text": [
      "[0.  0.3 0.6 0.9 1.2 1.5 1.8]\n",
      "7\n"
     ]
    }
   ],
   "source": [
    "a = np.arange(0, 2, 0.3)\n",
    "print(a)\n",
    "print(a.size)"
   ]
  },
  {
   "cell_type": "code",
   "execution_count": 14,
   "metadata": {},
   "outputs": [
    {
     "name": "stdout",
     "output_type": "stream",
     "text": [
      "[0.         0.31578947 0.63157895 0.94736842 1.26315789 1.57894737\n",
      " 1.89473684 2.21052632 2.52631579 2.84210526 3.15789474 3.47368421\n",
      " 3.78947368 4.10526316 4.42105263 4.73684211 5.05263158 5.36842105\n",
      " 5.68421053 6.        ]\n",
      "20\n"
     ]
    }
   ],
   "source": [
    "a = np.linspace(0, 6, 20)\n",
    "print(a)\n",
    "print(a.size)"
   ]
  },
  {
   "cell_type": "code",
   "execution_count": 15,
   "metadata": {},
   "outputs": [
    {
     "name": "stdout",
     "output_type": "stream",
     "text": [
      "[0 1 2 3 4 5 6 7 8 9]\n",
      "[10 11 12 13 14 15 16 17 18 19]\n"
     ]
    }
   ],
   "source": [
    "a = np.arange(10)\n",
    "b = np.arange(10, 20)\n",
    "\n",
    "print(a)\n",
    "print(b)"
   ]
  },
  {
   "cell_type": "code",
   "execution_count": 16,
   "metadata": {},
   "outputs": [
    {
     "name": "stdout",
     "output_type": "stream",
     "text": [
      "float64\n",
      "[0. 0. 0. 0. 0. 0. 0. 0. 0. 0.]\n"
     ]
    }
   ],
   "source": [
    "SIZE = 10\n",
    "SHAPE =(SIZE,)\n",
    "\n",
    "res = np.zeros(SHAPE)\n",
    "print(res.dtype)\n",
    "print(res)"
   ]
  },
  {
   "cell_type": "code",
   "execution_count": 17,
   "metadata": {},
   "outputs": [
    {
     "data": {
      "text/plain": [
       "array([0, 0, 0, 0, 0, 0, 0, 0, 0, 0])"
      ]
     },
     "execution_count": 17,
     "metadata": {},
     "output_type": "execute_result"
    }
   ],
   "source": [
    "res = np.zeros(SHAPE, dtype=a.dtype)\n",
    "res"
   ]
  },
  {
   "cell_type": "code",
   "execution_count": 18,
   "metadata": {},
   "outputs": [
    {
     "data": {
      "text/plain": [
       "array([10, 12, 14, 16, 18, 20, 22, 24, 26, 28])"
      ]
     },
     "execution_count": 18,
     "metadata": {},
     "output_type": "execute_result"
    }
   ],
   "source": [
    "for i in range(SIZE):\n",
    "    res[i] = a[i] + b[i]\n",
    "res"
   ]
  },
  {
   "cell_type": "code",
   "execution_count": 19,
   "metadata": {},
   "outputs": [
    {
     "data": {
      "text/plain": [
       "array([10, 12, 14, 16, 18, 20, 22, 24, 26, 28])"
      ]
     },
     "execution_count": 19,
     "metadata": {},
     "output_type": "execute_result"
    }
   ],
   "source": [
    "a + b"
   ]
  },
  {
   "cell_type": "code",
   "execution_count": 20,
   "metadata": {},
   "outputs": [
    {
     "data": {
      "text/plain": [
       "array([  0,  11,  24,  39,  56,  75,  96, 119, 144, 171])"
      ]
     },
     "execution_count": 20,
     "metadata": {},
     "output_type": "execute_result"
    }
   ],
   "source": [
    "a * b"
   ]
  },
  {
   "cell_type": "code",
   "execution_count": 21,
   "metadata": {},
   "outputs": [],
   "source": [
    "SHAPE = (2, 3)\n",
    "a = np.arange(1,  7).reshape(SHAPE)\n",
    "b = np.arange(9, 15).reshape(SHAPE)\n",
    "\n",
    "assert a.shape == b.shape"
   ]
  },
  {
   "cell_type": "code",
   "execution_count": 22,
   "metadata": {},
   "outputs": [
    {
     "data": {
      "text/plain": [
       "array([[ 9, 20, 33],\n",
       "       [48, 65, 84]])"
      ]
     },
     "execution_count": 22,
     "metadata": {},
     "output_type": "execute_result"
    }
   ],
   "source": [
    "a * b"
   ]
  },
  {
   "cell_type": "code",
   "execution_count": 23,
   "metadata": {},
   "outputs": [
    {
     "data": {
      "text/plain": [
       "array([[8, 8, 8],\n",
       "       [8, 8, 8]])"
      ]
     },
     "execution_count": 23,
     "metadata": {},
     "output_type": "execute_result"
    }
   ],
   "source": [
    "b - a"
   ]
  },
  {
   "cell_type": "code",
   "execution_count": 24,
   "metadata": {
    "scrolled": true
   },
   "outputs": [
    {
     "name": "stdout",
     "output_type": "stream",
     "text": [
      "operands could not be broadcast together with shapes (7,) (9,) \n"
     ]
    }
   ],
   "source": [
    "a = np.arange(7)\n",
    "b = np.arange(9)\n",
    "\n",
    "try:\n",
    "    a + b\n",
    "except ValueError as e:\n",
    "    print(e)"
   ]
  },
  {
   "cell_type": "markdown",
   "metadata": {},
   "source": [
    "### Operations"
   ]
  },
  {
   "cell_type": "code",
   "execution_count": 25,
   "metadata": {},
   "outputs": [
    {
     "name": "stderr",
     "output_type": "stream",
     "text": [
      "C:\\Users\\lpikulev\\Anaconda3\\lib\\site-packages\\ipykernel_launcher.py:1: RuntimeWarning: divide by zero encountered in true_divide\n",
      "  \"\"\"Entry point for launching an IPython kernel.\n"
     ]
    },
    {
     "data": {
      "text/plain": [
       "array([        inf, 11.        ,  6.        ,  4.33333333,  3.5       ,\n",
       "        3.        ,  2.66666667,  2.42857143,  2.25      ,  2.11111111])"
      ]
     },
     "execution_count": 25,
     "metadata": {},
     "output_type": "execute_result"
    }
   ],
   "source": [
    "np.arange(10,20) / np.arange(10)"
   ]
  },
  {
   "cell_type": "code",
   "execution_count": 26,
   "metadata": {},
   "outputs": [
    {
     "name": "stdout",
     "output_type": "stream",
     "text": [
      "[0 1 2 3 4 5 6 7 8 9]\n",
      "Разница между n и n+1 элементом:\n"
     ]
    },
    {
     "data": {
      "text/plain": [
       "array([1, 1, 1, 1, 1, 1, 1, 1, 1])"
      ]
     },
     "execution_count": 26,
     "metadata": {},
     "output_type": "execute_result"
    }
   ],
   "source": [
    "a = np.arange(10)\n",
    "print(a)\n",
    "print(\"Разница между n и n+1 элементом:\")\n",
    "np.diff(a)"
   ]
  },
  {
   "cell_type": "code",
   "execution_count": 27,
   "metadata": {},
   "outputs": [
    {
     "name": "stdout",
     "output_type": "stream",
     "text": [
      "[[10 15 20 25]\n",
      " [30 35 40 45]]\n",
      "[[5 5 5]\n",
      " [5 5 5]]\n"
     ]
    }
   ],
   "source": [
    "a = np.arange(10, 50, 5).reshape(2, 4)\n",
    "print(a)\n",
    "print(np.diff(a))"
   ]
  },
  {
   "cell_type": "code",
   "execution_count": 28,
   "metadata": {},
   "outputs": [
    {
     "data": {
      "text/plain": [
       "array([[ 30,  45,  60,  75],\n",
       "       [ 90, 105, 120, 135]])"
      ]
     },
     "execution_count": 28,
     "metadata": {},
     "output_type": "execute_result"
    }
   ],
   "source": [
    "a * 3"
   ]
  },
  {
   "cell_type": "code",
   "execution_count": 29,
   "metadata": {},
   "outputs": [
    {
     "data": {
      "text/plain": [
       "array([[20, 20, 20],\n",
       "       [20, 20, 20]])"
      ]
     },
     "execution_count": 29,
     "metadata": {},
     "output_type": "execute_result"
    }
   ],
   "source": [
    "np.diff(a * 4)"
   ]
  },
  {
   "cell_type": "code",
   "execution_count": 30,
   "metadata": {},
   "outputs": [
    {
     "data": {
      "text/plain": [
       "220"
      ]
     },
     "execution_count": 30,
     "metadata": {},
     "output_type": "execute_result"
    }
   ],
   "source": [
    "np.sum(a)"
   ]
  },
  {
   "cell_type": "code",
   "execution_count": 31,
   "metadata": {},
   "outputs": [
    {
     "data": {
      "text/plain": [
       "660"
      ]
     },
     "execution_count": 31,
     "metadata": {},
     "output_type": "execute_result"
    }
   ],
   "source": [
    "np.sum(a * 3)"
   ]
  },
  {
   "cell_type": "code",
   "execution_count": 32,
   "metadata": {},
   "outputs": [
    {
     "data": {
      "text/plain": [
       "2"
      ]
     },
     "execution_count": 32,
     "metadata": {},
     "output_type": "execute_result"
    }
   ],
   "source": [
    "a.ndim"
   ]
  },
  {
   "cell_type": "code",
   "execution_count": 33,
   "metadata": {},
   "outputs": [
    {
     "data": {
      "text/plain": [
       "array([[10, 15, 20, 25],\n",
       "       [30, 35, 40, 45]])"
      ]
     },
     "execution_count": 33,
     "metadata": {},
     "output_type": "execute_result"
    }
   ],
   "source": [
    "a"
   ]
  },
  {
   "cell_type": "code",
   "execution_count": 34,
   "metadata": {},
   "outputs": [
    {
     "name": "stdout",
     "output_type": "stream",
     "text": [
      "Sum on axis 0: [40 50 60 70]\n",
      "Sum on axis 1: [ 70 150]\n"
     ]
    }
   ],
   "source": [
    "for dim in range(a.ndim):\n",
    "    print(f\"Sum on axis {dim}:\", np.sum(a, axis=dim))"
   ]
  },
  {
   "cell_type": "code",
   "execution_count": 35,
   "metadata": {},
   "outputs": [
    {
     "name": "stdout",
     "output_type": "stream",
     "text": [
      "Product on axis 0: [ 300  525  800 1125]\n",
      "Product on axis 1: [  75000 1890000]\n"
     ]
    }
   ],
   "source": [
    "for dim in range(a.ndim):\n",
    "    print(f\"Product on axis {dim}:\", np.prod(a, axis=dim))"
   ]
  },
  {
   "cell_type": "code",
   "execution_count": 36,
   "metadata": {},
   "outputs": [
    {
     "data": {
      "text/plain": [
       "True"
      ]
     },
     "execution_count": 36,
     "metadata": {},
     "output_type": "execute_result"
    }
   ],
   "source": [
    "np.prod(a, axis=None) == np.prod(a)"
   ]
  },
  {
   "cell_type": "code",
   "execution_count": 37,
   "metadata": {},
   "outputs": [
    {
     "data": {
      "text/plain": [
       "array([[ 100,  225,  400,  625],\n",
       "       [ 900, 1225, 1600, 2025]], dtype=int32)"
      ]
     },
     "execution_count": 37,
     "metadata": {},
     "output_type": "execute_result"
    }
   ],
   "source": [
    "a ** 2"
   ]
  },
  {
   "cell_type": "code",
   "execution_count": 38,
   "metadata": {},
   "outputs": [
    {
     "data": {
      "text/plain": [
       "array([[3.16227766, 3.87298335, 4.47213595, 5.        ],\n",
       "       [5.47722558, 5.91607978, 6.32455532, 6.70820393]])"
      ]
     },
     "execution_count": 38,
     "metadata": {},
     "output_type": "execute_result"
    }
   ],
   "source": [
    "np.sqrt(a)"
   ]
  },
  {
   "cell_type": "code",
   "execution_count": 39,
   "metadata": {},
   "outputs": [
    {
     "data": {
      "text/plain": [
       "array([[10, 15, 20, 25],\n",
       "       [30, 35, 40, 45]])"
      ]
     },
     "execution_count": 39,
     "metadata": {},
     "output_type": "execute_result"
    }
   ],
   "source": [
    "a"
   ]
  },
  {
   "cell_type": "code",
   "execution_count": 40,
   "metadata": {},
   "outputs": [
    {
     "data": {
      "text/plain": [
       "array([[False, False, False, False],\n",
       "       [False,  True,  True,  True]])"
      ]
     },
     "execution_count": 40,
     "metadata": {},
     "output_type": "execute_result"
    }
   ],
   "source": [
    "a > 30"
   ]
  },
  {
   "cell_type": "code",
   "execution_count": 41,
   "metadata": {},
   "outputs": [
    {
     "data": {
      "text/plain": [
       "array([[40, 45, 50, 55],\n",
       "       [60, 65, 70, 75]], dtype=int64)"
      ]
     },
     "execution_count": 41,
     "metadata": {},
     "output_type": "execute_result"
    }
   ],
   "source": [
    "b = np.linspace(40, 75, 8, dtype=np.int64).reshape(2, 4)\n",
    "b"
   ]
  },
  {
   "cell_type": "code",
   "execution_count": 42,
   "metadata": {},
   "outputs": [
    {
     "data": {
      "text/plain": [
       "array([[ True,  True,  True,  True],\n",
       "       [ True,  True,  True,  True]])"
      ]
     },
     "execution_count": 42,
     "metadata": {},
     "output_type": "execute_result"
    }
   ],
   "source": [
    "a < b"
   ]
  },
  {
   "cell_type": "code",
   "execution_count": 43,
   "metadata": {},
   "outputs": [
    {
     "data": {
      "text/plain": [
       "array([[50, 45, 40, 35],\n",
       "       [30, 25, 20, 15]])"
      ]
     },
     "execution_count": 43,
     "metadata": {},
     "output_type": "execute_result"
    }
   ],
   "source": [
    "b = np.arange(50, 10, -5).reshape(2,4)\n",
    "b"
   ]
  },
  {
   "cell_type": "code",
   "execution_count": 44,
   "metadata": {},
   "outputs": [
    {
     "data": {
      "text/plain": [
       "array([[False, False, False, False],\n",
       "       [False,  True,  True,  True]])"
      ]
     },
     "execution_count": 44,
     "metadata": {},
     "output_type": "execute_result"
    }
   ],
   "source": [
    "a > b"
   ]
  },
  {
   "cell_type": "markdown",
   "metadata": {},
   "source": [
    "### Data types"
   ]
  },
  {
   "cell_type": "code",
   "execution_count": 45,
   "metadata": {},
   "outputs": [
    {
     "name": "stdout",
     "output_type": "stream",
     "text": [
      "Numpy приводит элементы к нужному типу:\n",
      "int32\n",
      "float64\n",
      "bool\n",
      "int32\n",
      "int32\n"
     ]
    }
   ],
   "source": [
    "print(\"Numpy приводит элементы к нужному типу:\")\n",
    "print(a.dtype)\n",
    "print((a / 3).dtype)\n",
    "print((a > b).dtype)\n",
    "print((a // b).dtype)\n",
    "print((a % b).dtype)"
   ]
  },
  {
   "cell_type": "markdown",
   "metadata": {},
   "source": [
    "### Indexes, slides"
   ]
  },
  {
   "cell_type": "code",
   "execution_count": 46,
   "metadata": {},
   "outputs": [
    {
     "data": {
      "text/plain": [
       "array([  0,   1,   8,  27,  64, 125, 216, 343, 512, 729], dtype=int32)"
      ]
     },
     "execution_count": 46,
     "metadata": {},
     "output_type": "execute_result"
    }
   ],
   "source": [
    "a = np.arange(10) ** 3\n",
    "a"
   ]
  },
  {
   "cell_type": "code",
   "execution_count": 47,
   "metadata": {},
   "outputs": [
    {
     "data": {
      "text/plain": [
       "512"
      ]
     },
     "execution_count": 47,
     "metadata": {},
     "output_type": "execute_result"
    }
   ],
   "source": [
    "a[8]"
   ]
  },
  {
   "cell_type": "code",
   "execution_count": 48,
   "metadata": {},
   "outputs": [
    {
     "data": {
      "text/plain": [
       "array([ 8, 27, 64], dtype=int32)"
      ]
     },
     "execution_count": 48,
     "metadata": {},
     "output_type": "execute_result"
    }
   ],
   "source": [
    "a[2:5]"
   ]
  },
  {
   "cell_type": "code",
   "execution_count": 49,
   "metadata": {},
   "outputs": [
    {
     "data": {
      "text/plain": [
       "array([343, 512, 729], dtype=int32)"
      ]
     },
     "execution_count": 49,
     "metadata": {},
     "output_type": "execute_result"
    }
   ],
   "source": [
    "a[7:]"
   ]
  },
  {
   "cell_type": "code",
   "execution_count": 50,
   "metadata": {},
   "outputs": [
    {
     "name": "stdout",
     "output_type": "stream",
     "text": [
      "from 3-rd to 9-th (not included) elem with step 2:\n"
     ]
    },
    {
     "data": {
      "text/plain": [
       "array([ 27, 125, 343], dtype=int32)"
      ]
     },
     "execution_count": 50,
     "metadata": {},
     "output_type": "execute_result"
    }
   ],
   "source": [
    "print(\"from 3-rd to 9-th (not included) elem with step 2:\")\n",
    "a[3:9:2]"
   ]
  },
  {
   "cell_type": "code",
   "execution_count": 51,
   "metadata": {},
   "outputs": [
    {
     "name": "stdout",
     "output_type": "stream",
     "text": [
      "from 3-rd to the last (included!) elem with step 2:\n"
     ]
    },
    {
     "data": {
      "text/plain": [
       "array([ 27, 125, 343, 729], dtype=int32)"
      ]
     },
     "execution_count": 51,
     "metadata": {},
     "output_type": "execute_result"
    }
   ],
   "source": [
    "print(\"from 3-rd to the last (included!) elem with step 2:\")\n",
    "a[3::2]"
   ]
  },
  {
   "cell_type": "code",
   "execution_count": 52,
   "metadata": {},
   "outputs": [
    {
     "name": "stdout",
     "output_type": "stream",
     "text": [
      "from the first to the last (included!) elem with step 3 (every 3-rd elem)\n"
     ]
    },
    {
     "data": {
      "text/plain": [
       "array([  0,  27, 216, 729], dtype=int32)"
      ]
     },
     "execution_count": 52,
     "metadata": {},
     "output_type": "execute_result"
    }
   ],
   "source": [
    "print(\"from the first to the last (included!) elem with step 3 (every 3-rd elem)\")\n",
    "a[::3]"
   ]
  },
  {
   "cell_type": "code",
   "execution_count": 53,
   "metadata": {},
   "outputs": [
    {
     "name": "stdout",
     "output_type": "stream",
     "text": [
      "from the last to the first (included!) elem with step 3\n"
     ]
    },
    {
     "data": {
      "text/plain": [
       "array([729, 216,  27,   0], dtype=int32)"
      ]
     },
     "execution_count": 53,
     "metadata": {},
     "output_type": "execute_result"
    }
   ],
   "source": [
    "print(\"from the last to the first (included!) elem with step 3\")\n",
    "a[::-3]"
   ]
  },
  {
   "cell_type": "code",
   "execution_count": 54,
   "metadata": {},
   "outputs": [
    {
     "name": "stdout",
     "output_type": "stream",
     "text": [
      "reverted order\n"
     ]
    },
    {
     "data": {
      "text/plain": [
       "array([729, 512, 343, 216, 125,  64,  27,   8,   1,   0], dtype=int32)"
      ]
     },
     "execution_count": 54,
     "metadata": {},
     "output_type": "execute_result"
    }
   ],
   "source": [
    "print(\"reverted order\")\n",
    "a[::-1]"
   ]
  },
  {
   "cell_type": "markdown",
   "metadata": {},
   "source": [
    "### Setting values"
   ]
  },
  {
   "cell_type": "code",
   "execution_count": 55,
   "metadata": {},
   "outputs": [
    {
     "data": {
      "text/plain": [
       "array([  0,  27, 216], dtype=int32)"
      ]
     },
     "execution_count": 55,
     "metadata": {},
     "output_type": "execute_result"
    }
   ],
   "source": [
    "a[:9:3]"
   ]
  },
  {
   "cell_type": "code",
   "execution_count": 56,
   "metadata": {},
   "outputs": [
    {
     "data": {
      "text/plain": [
       "array([  0,   1,   8,  27,  64, 125, 216, 343, 512, 729], dtype=int32)"
      ]
     },
     "execution_count": 56,
     "metadata": {},
     "output_type": "execute_result"
    }
   ],
   "source": [
    "a"
   ]
  },
  {
   "cell_type": "code",
   "execution_count": 57,
   "metadata": {},
   "outputs": [
    {
     "data": {
      "text/plain": [
       "array([  0,  27, 216], dtype=int32)"
      ]
     },
     "execution_count": 57,
     "metadata": {},
     "output_type": "execute_result"
    }
   ],
   "source": [
    "a[:9:3]"
   ]
  },
  {
   "cell_type": "markdown",
   "metadata": {},
   "source": [
    "### Creating arrays"
   ]
  },
  {
   "cell_type": "code",
   "execution_count": 58,
   "metadata": {},
   "outputs": [
    {
     "data": {
      "text/plain": [
       "array([[ 0,  1,  2,  3],\n",
       "       [ 4,  5,  6,  7],\n",
       "       [ 8,  9, 10, 11],\n",
       "       [12, 13, 14, 15],\n",
       "       [16, 17, 18, 19]])"
      ]
     },
     "execution_count": 58,
     "metadata": {},
     "output_type": "execute_result"
    }
   ],
   "source": [
    "SHAPE = 5, 4\n",
    "b = np.arange(20).reshape(SHAPE)\n",
    "b"
   ]
  },
  {
   "cell_type": "code",
   "execution_count": 59,
   "metadata": {},
   "outputs": [
    {
     "name": "stdout",
     "output_type": "stream",
     "text": [
      "34\n"
     ]
    }
   ],
   "source": [
    "def f(x, y):\n",
    "    return 10 * x + y\n",
    "\n",
    "print(f(3, 4))"
   ]
  },
  {
   "cell_type": "code",
   "execution_count": 61,
   "metadata": {},
   "outputs": [
    {
     "name": "stdout",
     "output_type": "stream",
     "text": [
      "x - horizontal axis, y - vertical axis, cross - f's result\n"
     ]
    },
    {
     "data": {
      "text/plain": [
       "array([[ 0.,  1.,  2.,  3.],\n",
       "       [10., 11., 12., 13.],\n",
       "       [20., 21., 22., 23.],\n",
       "       [30., 31., 32., 33.],\n",
       "       [40., 41., 42., 43.]])"
      ]
     },
     "execution_count": 61,
     "metadata": {},
     "output_type": "execute_result"
    }
   ],
   "source": [
    "print(\"x - horizontal axis, y - vertical axis, cross - f's result\")\n",
    "np.fromfunction(f, SHAPE)"
   ]
  },
  {
   "cell_type": "code",
   "execution_count": 62,
   "metadata": {},
   "outputs": [
    {
     "data": {
      "text/plain": [
       "array([[ 0.,  1.,  2.,  3.,  4.,  5.,  6.,  7.,  8.,  9.],\n",
       "       [10., 11., 12., 13., 14., 15., 16., 17., 18., 19.],\n",
       "       [20., 21., 22., 23., 24., 25., 26., 27., 28., 29.],\n",
       "       [30., 31., 32., 33., 34., 35., 36., 37., 38., 39.],\n",
       "       [40., 41., 42., 43., 44., 45., 46., 47., 48., 49.],\n",
       "       [50., 51., 52., 53., 54., 55., 56., 57., 58., 59.],\n",
       "       [60., 61., 62., 63., 64., 65., 66., 67., 68., 69.],\n",
       "       [70., 71., 72., 73., 74., 75., 76., 77., 78., 79.],\n",
       "       [80., 81., 82., 83., 84., 85., 86., 87., 88., 89.],\n",
       "       [90., 91., 92., 93., 94., 95., 96., 97., 98., 99.]])"
      ]
     },
     "execution_count": 62,
     "metadata": {},
     "output_type": "execute_result"
    }
   ],
   "source": [
    "np.fromfunction(f, (10, 10))"
   ]
  },
  {
   "cell_type": "code",
   "execution_count": 68,
   "metadata": {},
   "outputs": [],
   "source": [
    "# def inc_by_index_1(x):\n",
    "#     print(type(x))\n",
    "#     if not (x > 0):\n",
    "        \n",
    "#         return x\n",
    "#     return x + inc_by_index_1(x - 1)\n",
    "\n",
    "# print(inc_by_index_1(1))\n",
    "# print(inc_by_index_1(2))\n",
    "# print(inc_by_index_1(3))"
   ]
  },
  {
   "cell_type": "code",
   "execution_count": 69,
   "metadata": {},
   "outputs": [
    {
     "data": {
      "text/plain": [
       "array([[10, 12, 14, 16],\n",
       "       [18, 20, 22, 24],\n",
       "       [26, 28, 30, 32],\n",
       "       [34, 36, 38, 40],\n",
       "       [42, 44, 46, 48]])"
      ]
     },
     "execution_count": 69,
     "metadata": {},
     "output_type": "execute_result"
    }
   ],
   "source": [
    "a = np.arange(10, 50, 2).reshape(5, 4)\n",
    "a"
   ]
  },
  {
   "cell_type": "code",
   "execution_count": 71,
   "metadata": {},
   "outputs": [
    {
     "data": {
      "text/plain": [
       "42"
      ]
     },
     "execution_count": 71,
     "metadata": {},
     "output_type": "execute_result"
    }
   ],
   "source": [
    "a[4][0]"
   ]
  },
  {
   "cell_type": "code",
   "execution_count": 72,
   "metadata": {},
   "outputs": [
    {
     "data": {
      "text/plain": [
       "42"
      ]
     },
     "execution_count": 72,
     "metadata": {},
     "output_type": "execute_result"
    }
   ],
   "source": [
    "a[4, 0]"
   ]
  },
  {
   "cell_type": "code",
   "execution_count": 73,
   "metadata": {},
   "outputs": [
    {
     "data": {
      "text/plain": [
       "array([16, 24, 32, 40, 48])"
      ]
     },
     "execution_count": 73,
     "metadata": {},
     "output_type": "execute_result"
    }
   ],
   "source": [
    "a[:, 3]"
   ]
  },
  {
   "cell_type": "code",
   "execution_count": 74,
   "metadata": {},
   "outputs": [
    {
     "data": {
      "text/plain": [
       "array([[18, 20],\n",
       "       [26, 28]])"
      ]
     },
     "execution_count": 74,
     "metadata": {},
     "output_type": "execute_result"
    }
   ],
   "source": [
    "a[1:3, :2]"
   ]
  },
  {
   "cell_type": "code",
   "execution_count": 78,
   "metadata": {},
   "outputs": [
    {
     "data": {
      "text/plain": [
       "array([[42, 44, 46, 48],\n",
       "       [34, 36, 38, 40],\n",
       "       [26, 28, 30, 32],\n",
       "       [18, 20, 22, 24],\n",
       "       [10, 12, 14, 16]])"
      ]
     },
     "execution_count": 78,
     "metadata": {},
     "output_type": "execute_result"
    }
   ],
   "source": [
    "# reflection hor\n",
    "a[::-1]"
   ]
  },
  {
   "cell_type": "code",
   "execution_count": 76,
   "metadata": {},
   "outputs": [
    {
     "data": {
      "text/plain": [
       "array([[48, 46, 44, 42],\n",
       "       [40, 38, 36, 34],\n",
       "       [32, 30, 28, 26],\n",
       "       [24, 22, 20, 18],\n",
       "       [16, 14, 12, 10]])"
      ]
     },
     "execution_count": 76,
     "metadata": {},
     "output_type": "execute_result"
    }
   ],
   "source": [
    "# \n",
    "a[::-1, ::-1]"
   ]
  },
  {
   "cell_type": "code",
   "execution_count": 79,
   "metadata": {},
   "outputs": [
    {
     "data": {
      "text/plain": [
       "array([[10, 18, 26, 34, 42],\n",
       "       [12, 20, 28, 36, 44],\n",
       "       [14, 22, 30, 38, 46],\n",
       "       [16, 24, 32, 40, 48]])"
      ]
     },
     "execution_count": 79,
     "metadata": {},
     "output_type": "execute_result"
    }
   ],
   "source": [
    "a.transpose()"
   ]
  },
  {
   "cell_type": "code",
   "execution_count": 80,
   "metadata": {},
   "outputs": [
    {
     "data": {
      "text/plain": [
       "array([[10, 12, 14, 16],\n",
       "       [18, 20, 22, 24],\n",
       "       [26, 28, 30, 32],\n",
       "       [34, 36, 38, 40],\n",
       "       [42, 44, 46, 48]])"
      ]
     },
     "execution_count": 80,
     "metadata": {},
     "output_type": "execute_result"
    }
   ],
   "source": [
    "a"
   ]
  },
  {
   "cell_type": "code",
   "execution_count": 96,
   "metadata": {},
   "outputs": [
    {
     "data": {
      "text/plain": [
       "array([[[ 0,  1,  2,  3,  4,  5],\n",
       "        [ 6,  7,  8,  9, 10, 11],\n",
       "        [12, 13, 14, 15, 16, 17],\n",
       "        [18, 19, 20, 21, 22, 23]],\n",
       "\n",
       "       [[24, 25, 26, 27, 28, 29],\n",
       "        [30, 31, 32, 33, 34, 35],\n",
       "        [36, 37, 38, 39, 40, 41],\n",
       "        [42, 43, 44, 45, 46, 47]]])"
      ]
     },
     "execution_count": 96,
     "metadata": {},
     "output_type": "execute_result"
    }
   ],
   "source": [
    "SHAPE_3D = (2, 4, 6)\n",
    "\n",
    "a = np.arange(SHAPE_3D[0]*SHAPE_3D[1]*SHAPE_3D[2]).reshape(SHAPE_3D)\n",
    "a"
   ]
  },
  {
   "cell_type": "code",
   "execution_count": 97,
   "metadata": {},
   "outputs": [
    {
     "name": "stdout",
     "output_type": "stream",
     "text": [
      "(2, 4, 6)\n",
      "3\n",
      "48\n"
     ]
    }
   ],
   "source": [
    "print(a.shape)\n",
    "print(a.ndim)\n",
    "print(a.size)"
   ]
  },
  {
   "cell_type": "code",
   "execution_count": 98,
   "metadata": {},
   "outputs": [
    {
     "name": "stdout",
     "output_type": "stream",
     "text": [
      "[[24 25 26 27 28 29]\n",
      " [30 31 32 33 34 35]\n",
      " [36 37 38 39 40 41]\n",
      " [42 43 44 45 46 47]]\n",
      "[[18 19 20 21 22 23]\n",
      " [42 43 44 45 46 47]]\n",
      "[[ 5 11 17 23]\n",
      " [29 35 41 47]]\n"
     ]
    }
   ],
   "source": [
    "print(a[1])\n",
    "print(a[:, 3])\n",
    "print(a[:, :, 5])"
   ]
  },
  {
   "cell_type": "code",
   "execution_count": 99,
   "metadata": {},
   "outputs": [
    {
     "data": {
      "text/plain": [
       "47"
      ]
     },
     "execution_count": 99,
     "metadata": {},
     "output_type": "execute_result"
    }
   ],
   "source": [
    "a[1, 3, 5]"
   ]
  },
  {
   "cell_type": "code",
   "execution_count": 100,
   "metadata": {},
   "outputs": [
    {
     "data": {
      "text/plain": [
       "array([[ 5, 11, 17, 23],\n",
       "       [29, 35, 41, 47]])"
      ]
     },
     "execution_count": 100,
     "metadata": {},
     "output_type": "execute_result"
    }
   ],
   "source": [
    "a[..., 5]"
   ]
  },
  {
   "cell_type": "code",
   "execution_count": 101,
   "metadata": {},
   "outputs": [
    {
     "data": {
      "text/plain": [
       "array([[[        0,         1,        32,       243,      1024,\n",
       "              3125],\n",
       "        [     7776,     16807,     32768,     59049,    100000,\n",
       "            161051],\n",
       "        [   248832,    371293,    537824,    759375,   1048576,\n",
       "           1419857],\n",
       "        [  1889568,   2476099,   3200000,   4084101,   5153632,\n",
       "           6436343]],\n",
       "\n",
       "       [[  7962624,   9765625,  11881376,  14348907,  17210368,\n",
       "          20511149],\n",
       "        [ 24300000,  28629151,  33554432,  39135393,  45435424,\n",
       "          52521875],\n",
       "        [ 60466176,  69343957,  79235168,  90224199, 102400000,\n",
       "         115856201],\n",
       "        [130691232, 147008443, 164916224, 184528125, 205962976,\n",
       "         229345007]]], dtype=int32)"
      ]
     },
     "execution_count": 101,
     "metadata": {},
     "output_type": "execute_result"
    }
   ],
   "source": [
    "a ** 5"
   ]
  },
  {
   "cell_type": "code",
   "execution_count": 102,
   "metadata": {},
   "outputs": [
    {
     "data": {
      "text/plain": [
       "(2, 3, 4, 5, 6)"
      ]
     },
     "execution_count": 102,
     "metadata": {},
     "output_type": "execute_result"
    }
   ],
   "source": [
    "SHAPE_5D = tuple(range(2, 7))\n",
    "SHAPE_5D"
   ]
  },
  {
   "cell_type": "code",
   "execution_count": 104,
   "metadata": {},
   "outputs": [
    {
     "data": {
      "text/plain": [
       "array([[[[[ -5936,   7121,    524,      0,  -7536,   6812],\n",
       "          [   524,      0, -25080,   7867,    524,      0],\n",
       "          [ 10888,   7867,    524,      0,  -8056,   7866],\n",
       "          [   524,      0,  -5112,   7866,    524,      0],\n",
       "          [-28472,   7866,    524,      0, -28536,   7866]],\n",
       "\n",
       "         [[   524,      0, -26808,   7866,    524,      0],\n",
       "          [-25080,   7866,    524,      0, -25976,   7866],\n",
       "          [   524,      0, -25016,   7866,    524,      0],\n",
       "          [-24760,   7866,    524,      0, -25464,   7866],\n",
       "          [   524,      0, -25144,   7866,    524,      0]],\n",
       "\n",
       "         [[-26040,   7866,    524,      0, -28024,   7866],\n",
       "          [   524,      0, -25656,   7866,    524,      0],\n",
       "          [-26232,   7866,    524,      0,  30088,   7917],\n",
       "          [   524,      0,  29768,   7917,    524,      0],\n",
       "          [ 30216,   7917,    524,      0,  31432,   7917]],\n",
       "\n",
       "         [[   524,      0,  30600,   7917,    524,      0],\n",
       "          [ 31176,   7917,    524,      0,  32328,   7917],\n",
       "          [   524,      0,  31560,   7917,    524,      0],\n",
       "          [ 31752,   7917,    524,      0,  32456,   7917],\n",
       "          [   524,      0,  24712,   7866,    524,      0]]],\n",
       "\n",
       "\n",
       "        [[[ 27400,   7866,    524,      0,  28040,   7866],\n",
       "          [   524,      0,  28552,   7866,    524,      0],\n",
       "          [ 25224,   7866,    524,      0,  26568,   7866],\n",
       "          [   524,      0,  24776,   7866,    524,      0],\n",
       "          [ 11144,   7866,    524,      0,  11912,   7866]],\n",
       "\n",
       "         [[   524,      0,  11720,   7866,    524,      0],\n",
       "          [  9416,   7866,    524,      0,   9736,   7866],\n",
       "          [   524,      0,  10120,   7866,    524,      0],\n",
       "          [  8392,   7866,    524,      0,  -6520,   7865],\n",
       "          [   524,      0,  -5176,   7865,    524,      0]],\n",
       "\n",
       "         [[ -6648,   7865,    524,      0,  -5688,   7865],\n",
       "          [   524,      0, -15352,   7917,    524,      0],\n",
       "          [-14392,   7917,    524,      0, -12984,   7917],\n",
       "          [   524,      0, -14136,   7917,    524,      0],\n",
       "          [-14072,   7917,    524,      0, -12920,   7917]],\n",
       "\n",
       "         [[   524,      0, -21816,   7865,    524,      0],\n",
       "          [-23224,   7865,    524,      0, -22840,   7865],\n",
       "          [   524,      0, -23416,   7865,    524,      0],\n",
       "          [-22072,   7865,    524,      0, -21880,   7865],\n",
       "          [   524,      0, -24184,   7865,    524,      0]]],\n",
       "\n",
       "\n",
       "        [[[-23032,   7865,    524,      0,  18632,   7865],\n",
       "          [   524,      0,  19528,   7865,    524,      0],\n",
       "          [ 20424,   7865,    524,      0,  16648,   7865],\n",
       "          [   524,      0,  17864,   7865,    524,      0],\n",
       "          [  9928,   7865,    524,      0,   8584,   7865]],\n",
       "\n",
       "         [[   524,      0,  11592,   7865,    524,      0],\n",
       "          [  8392,   7865,    524,      0,  11912,   7865],\n",
       "          [   524,      0,  10184,   7865,    524,      0],\n",
       "          [  8520,   7865,    524,      0,  11528,   7865],\n",
       "          [   524,      0,   9992,   7865,    524,      0]],\n",
       "\n",
       "         [[  2312,   7918,    524,      0,    776,   7918],\n",
       "          [   524,      0,    840,   7918,    524,      0],\n",
       "          [   456,   7918,    524,      0,   1480,   7918],\n",
       "          [   524,      0,   1928,   7918,    524,      0],\n",
       "          [  2120,   7918,    524,      0,   2632,   7918]],\n",
       "\n",
       "         [[   524,      0,   3464,   7918,    524,      0],\n",
       "          [-21624,   7864,    524,      0, -23992,   7864],\n",
       "          [   524,      0,  30024,   7864,    524,      0],\n",
       "          [ 32200,   7864,    524,      0,  13896,   7864],\n",
       "          [   524,      0,  13128,   7864,    524,      0]]]],\n",
       "\n",
       "\n",
       "\n",
       "       [[[[ 14280,   7864,    524,      0,  14792,   7864],\n",
       "          [   524,      0,  15240,   7864,    524,      0],\n",
       "          [ 14088,   7864,    524,      0,  12488,   7864],\n",
       "          [   524,      0,  14216,   8006,    524,      0],\n",
       "          [ 16328,   8006,    524,      0,  12936,   8006]],\n",
       "\n",
       "         [[   524,      0,  13960,   8006,    524,      0],\n",
       "          [ 11720,   7899,    524,      0,  11784,   7899],\n",
       "          [   524,      0,   8456,   7899,    524,      0],\n",
       "          [ 11656,   7899,    524,      0,   9224,   7899],\n",
       "          [   524,      0,  10632,   7899,    524,      0]],\n",
       "\n",
       "         [[-17272,   7908,    524,      0, -19000,   7908],\n",
       "          [   524,      0, -19704,   7908,    524,      0],\n",
       "          [-20280,   7908,    524,      0, -17400,   7908],\n",
       "          [   524,      0,  -7800,   7941,    524,      0],\n",
       "          [ -8056,   7863,    524,      0,  -7864,   7863]],\n",
       "\n",
       "         [[   524,      0,  -4408,   7863,    524,      0],\n",
       "          [ -4728,   7863,    524,      0,  -6328,   7863],\n",
       "          [   524,      0,  -5688,   7863,    524,      0],\n",
       "          [-16568,   7863,    524,      0, -20344,   7863],\n",
       "          [   524,      0, -16504,   7863,    524,      0]]],\n",
       "\n",
       "\n",
       "        [[[-17784,   7863,    524,      0, -17272,   7863],\n",
       "          [   524,      0, -17080,   7863,    524,      0],\n",
       "          [-19640,   7863,    524,      0, -20088,   7863],\n",
       "          [   524,      0, -19512,   7863,    524,      0],\n",
       "          [ 30856,   7863,    524,      0,  31112,   7863]],\n",
       "\n",
       "         [[   524,      0,  31560,   7863,    524,      0],\n",
       "          [ 32584,   7863,    524,      0,  29768,   7863],\n",
       "          [   524,      0,  29704,   7863,    524,      0],\n",
       "          [ 29960,   7863,    524,      0,  16328,   7863],\n",
       "          [   524,      0,  13448,   7863,    524,      0]],\n",
       "\n",
       "         [[ 16200,   7863,    524,      0,  13128,   7863],\n",
       "          [   524,      0,  14728,   7863,    524,      0],\n",
       "          [ 14856,   7863,    524,      0,  13320,   7863],\n",
       "          [   524,      0,  14216,   7863,    524,      0],\n",
       "          [ -6072,   7862,    524,      0,  -5688,   7862]],\n",
       "\n",
       "         [[   524,      0,  -6904,   7862,    524,      0],\n",
       "          [ -4728,   7862,    524,      0,  -5432,   7862],\n",
       "          [   524,      0,  -7544,   7862,    524,      0],\n",
       "          [ -6712,   7862,    524,      0,  -8120,   7862],\n",
       "          [   524,      0, -22264,   7862,    524,      0]]],\n",
       "\n",
       "\n",
       "        [[[-21496,   7862,    524,      0, -22456,   7862],\n",
       "          [   524,      0, -20600,   7862,    524,      0],\n",
       "          [-23608,   7862,    524,      0, -22904,   7862],\n",
       "          [   524,      0, -27512,   7910,    524,      0],\n",
       "          [-25080,   7910,    524,      0,  30088,   7571]],\n",
       "\n",
       "         [[   524,      0,  32008,   7571,    524,      0],\n",
       "          [ 32520,   7571,    524,      0,  30984,   7571],\n",
       "          [   524,      0,  29640,   7571,    524,      0],\n",
       "          [  1224,   7856,    524,      0,  22216,   7911],\n",
       "          [   524,      0,  18888,   7238,    524,      0]],\n",
       "\n",
       "         [[-15096,   7918,    524,      0, -14648,   7918],\n",
       "          [   524,      0, -13048,   7918,    524,      0],\n",
       "          [  2696,   7919,    524,      0,    328,   7919],\n",
       "          [   524,      0,   1992,   7919,    524,      0],\n",
       "          [  3400,   7919,    524,      0,  14088,   7861]],\n",
       "\n",
       "         [[   524,      0,  16264,   7861,    524,      0],\n",
       "          [ 14024,   7861,    524,      0,  15368,   7861],\n",
       "          [   524,      0,  14472,   7861,    524,      0],\n",
       "          [-19064,   7860,    524,      0, -18680,   7860],\n",
       "          [   524,      0, -19256,   7860,    524,      0]]]]],\n",
       "      dtype=int16)"
      ]
     },
     "execution_count": 104,
     "metadata": {},
     "output_type": "execute_result"
    }
   ],
   "source": [
    "d = np.empty(SHAPE_5D, dtype=np.int16)\n",
    "d"
   ]
  },
  {
   "cell_type": "code",
   "execution_count": 105,
   "metadata": {},
   "outputs": [
    {
     "data": {
      "text/plain": [
       "array([[[7864,    0, 7864,    0, 8006],\n",
       "        [   0, 7899,    0, 7899,    0],\n",
       "        [7908,    0, 7908,    0, 7863],\n",
       "        [   0, 7863,    0, 7863,    0]],\n",
       "\n",
       "       [[7863,    0, 7863,    0, 7863],\n",
       "        [   0, 7863,    0, 7863,    0],\n",
       "        [7863,    0, 7863,    0, 7862],\n",
       "        [   0, 7862,    0, 7862,    0]],\n",
       "\n",
       "       [[7862,    0, 7862,    0, 7571],\n",
       "        [   0, 7571,    0, 7911,    0],\n",
       "        [7918,    0, 7919,    0, 7861],\n",
       "        [   0, 7861,    0, 7860,    0]]], dtype=int16)"
      ]
     },
     "execution_count": 105,
     "metadata": {},
     "output_type": "execute_result"
    }
   ],
   "source": [
    "d[1, :, :, :, 5]"
   ]
  },
  {
   "cell_type": "code",
   "execution_count": 106,
   "metadata": {},
   "outputs": [
    {
     "data": {
      "text/plain": [
       "array([[[7864,    0, 7864,    0, 8006],\n",
       "        [   0, 7899,    0, 7899,    0],\n",
       "        [7908,    0, 7908,    0, 7863],\n",
       "        [   0, 7863,    0, 7863,    0]],\n",
       "\n",
       "       [[7863,    0, 7863,    0, 7863],\n",
       "        [   0, 7863,    0, 7863,    0],\n",
       "        [7863,    0, 7863,    0, 7862],\n",
       "        [   0, 7862,    0, 7862,    0]],\n",
       "\n",
       "       [[7862,    0, 7862,    0, 7571],\n",
       "        [   0, 7571,    0, 7911,    0],\n",
       "        [7918,    0, 7919,    0, 7861],\n",
       "        [   0, 7861,    0, 7860,    0]]], dtype=int16)"
      ]
     },
     "execution_count": 106,
     "metadata": {},
     "output_type": "execute_result"
    }
   ],
   "source": [
    "d[1, ..., 5]"
   ]
  },
  {
   "cell_type": "code",
   "execution_count": 107,
   "metadata": {},
   "outputs": [
    {
     "name": "stdout",
     "output_type": "stream",
     "text": [
      "(2, 3, 4, 5, 6)\n",
      "(3, 4, 5)\n"
     ]
    }
   ],
   "source": [
    "print(d.shape)\n",
    "print(d[1, ..., 5].shape)"
   ]
  },
  {
   "cell_type": "code",
   "execution_count": 108,
   "metadata": {},
   "outputs": [
    {
     "data": {
      "text/plain": [
       "array([[[7866,    0, 7917,    0],\n",
       "        [7866,    0, 7917,    0],\n",
       "        [7865,    0, 7918,    0]],\n",
       "\n",
       "       [[8006,    0, 7863,    0],\n",
       "        [7863,    0, 7862,    0],\n",
       "        [7571,    0, 7861,    0]]], dtype=int16)"
      ]
     },
     "execution_count": 108,
     "metadata": {},
     "output_type": "execute_result"
    }
   ],
   "source": [
    "d[..., 4, 5]"
   ]
  },
  {
   "cell_type": "code",
   "execution_count": 110,
   "metadata": {},
   "outputs": [
    {
     "name": "stdout",
     "output_type": "stream",
     "text": [
      "[0. 0.]\n"
     ]
    }
   ],
   "source": [
    "a = np.arange(18).reshape((2,3,3))\n",
    "print(np.linalg.det(a))"
   ]
  },
  {
   "cell_type": "code",
   "execution_count": null,
   "metadata": {},
   "outputs": [],
   "source": []
  },
  {
   "cell_type": "code",
   "execution_count": null,
   "metadata": {},
   "outputs": [],
   "source": []
  },
  {
   "cell_type": "code",
   "execution_count": null,
   "metadata": {},
   "outputs": [],
   "source": []
  }
 ],
 "metadata": {
  "kernelspec": {
   "display_name": "Python 3",
   "language": "python",
   "name": "python3"
  },
  "language_info": {
   "codemirror_mode": {
    "name": "ipython",
    "version": 3
   },
   "file_extension": ".py",
   "mimetype": "text/x-python",
   "name": "python",
   "nbconvert_exporter": "python",
   "pygments_lexer": "ipython3",
   "version": "3.7.6"
  }
 },
 "nbformat": 4,
 "nbformat_minor": 4
}
